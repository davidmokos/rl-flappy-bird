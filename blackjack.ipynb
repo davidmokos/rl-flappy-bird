{
 "cells": [
  {
   "cell_type": "code",
   "execution_count": 66,
   "id": "9e5d5ce0-132a-4531-8a4e-9f890ed805df",
   "metadata": {},
   "outputs": [
    {
     "name": "stdout",
     "output_type": "stream",
     "text": [
      "Requirement already satisfied: gymnasium in ./.venv/lib/python3.11/site-packages (0.29.1)\n",
      "Requirement already satisfied: numpy in ./.venv/lib/python3.11/site-packages (1.26.2)\n",
      "Requirement already satisfied: matplotlib in ./.venv/lib/python3.11/site-packages (3.8.2)\n",
      "Requirement already satisfied: cloudpickle>=1.2.0 in ./.venv/lib/python3.11/site-packages (from gymnasium) (3.0.0)\n",
      "Requirement already satisfied: typing-extensions>=4.3.0 in ./.venv/lib/python3.11/site-packages (from gymnasium) (4.9.0)\n",
      "Requirement already satisfied: farama-notifications>=0.0.1 in ./.venv/lib/python3.11/site-packages (from gymnasium) (0.0.4)\n",
      "Requirement already satisfied: contourpy>=1.0.1 in ./.venv/lib/python3.11/site-packages (from matplotlib) (1.2.0)\n",
      "Requirement already satisfied: cycler>=0.10 in ./.venv/lib/python3.11/site-packages (from matplotlib) (0.12.1)\n",
      "Requirement already satisfied: fonttools>=4.22.0 in ./.venv/lib/python3.11/site-packages (from matplotlib) (4.47.0)\n",
      "Requirement already satisfied: kiwisolver>=1.3.1 in ./.venv/lib/python3.11/site-packages (from matplotlib) (1.4.5)\n",
      "Requirement already satisfied: packaging>=20.0 in ./.venv/lib/python3.11/site-packages (from matplotlib) (23.2)\n",
      "Requirement already satisfied: pillow>=8 in ./.venv/lib/python3.11/site-packages (from matplotlib) (10.1.0)\n",
      "Requirement already satisfied: pyparsing>=2.3.1 in ./.venv/lib/python3.11/site-packages (from matplotlib) (3.1.1)\n",
      "Requirement already satisfied: python-dateutil>=2.7 in ./.venv/lib/python3.11/site-packages (from matplotlib) (2.8.2)\n",
      "Requirement already satisfied: six>=1.5 in ./.venv/lib/python3.11/site-packages (from python-dateutil>=2.7->matplotlib) (1.16.0)\n"
     ]
    }
   ],
   "source": [
    "!pip install gymnasium numpy matplotlib"
   ]
  },
  {
   "cell_type": "code",
   "execution_count": 51,
   "id": "077b7eaf-5e16-44ae-9f3e-ec4653ca1789",
   "metadata": {},
   "outputs": [
    {
     "name": "stdout",
     "output_type": "stream",
     "text": [
      "Collecting pygame\n",
      "  Downloading pygame-2.5.2-cp311-cp311-macosx_11_0_arm64.whl.metadata (13 kB)\n",
      "Downloading pygame-2.5.2-cp311-cp311-macosx_11_0_arm64.whl (12.2 MB)\n",
      "\u001b[2K   \u001b[38;2;114;156;31m━━━━━━━━━━━━━━━━━━━━━━━━━━━━━━━━━━━━━━━━\u001b[0m \u001b[32m12.2/12.2 MB\u001b[0m \u001b[31m53.7 MB/s\u001b[0m eta \u001b[36m0:00:00\u001b[0mm eta \u001b[36m0:00:01\u001b[0m36m0:00:01\u001b[0m\n",
      "\u001b[?25hInstalling collected packages: pygame\n",
      "Successfully installed pygame-2.5.2\n"
     ]
    }
   ],
   "source": [
    "!pip install pygame"
   ]
  },
  {
   "cell_type": "code",
   "execution_count": 152,
   "id": "2c4befce-8bd8-44b5-b7ae-a1405b245b44",
   "metadata": {},
   "outputs": [],
   "source": [
    "import gymnasium\n",
    "import numpy as np\n",
    "from collections import defaultdict\n",
    "\n",
    "import matplotlib\n",
    "# matplotlib.use('Agg')\n",
    "import matplotlib.pyplot as plt\n",
    "\n",
    "import random"
   ]
  },
  {
   "cell_type": "code",
   "execution_count": 198,
   "id": "9659e13f-4841-4051-9db6-b4d302f4a23e",
   "metadata": {},
   "outputs": [],
   "source": [
    "env = gymnasium.make(\"Blackjack-v1\")"
   ]
  },
  {
   "cell_type": "code",
   "execution_count": 23,
   "id": "294fe25c-8594-4a4a-bacd-7aad29149f77",
   "metadata": {},
   "outputs": [
    {
     "data": {
      "text/plain": [
       "(22, 2, 1)"
      ]
     },
     "execution_count": 23,
     "metadata": {},
     "output_type": "execute_result"
    }
   ],
   "source": [
    "env.observation_space.sample()"
   ]
  },
  {
   "cell_type": "code",
   "execution_count": 47,
   "id": "f6b2acb3-71dd-41a2-b0b7-c88c8a5aba51",
   "metadata": {},
   "outputs": [
    {
     "data": {
      "text/plain": [
       "((17, 10, 1), {})"
      ]
     },
     "execution_count": 47,
     "metadata": {},
     "output_type": "execute_result"
    }
   ],
   "source": [
    "env.reset()"
   ]
  },
  {
   "cell_type": "code",
   "execution_count": 29,
   "id": "9254eea1-6296-4968-87aa-1fdb3f0c74b7",
   "metadata": {},
   "outputs": [
    {
     "data": {
      "text/plain": [
       "1"
      ]
     },
     "execution_count": 29,
     "metadata": {},
     "output_type": "execute_result"
    }
   ],
   "source": [
    "env.action_space.sample()"
   ]
  },
  {
   "cell_type": "code",
   "execution_count": 175,
   "id": "d1b8a6b0-6b29-4771-947e-fc1bd3c64f76",
   "metadata": {},
   "outputs": [],
   "source": [
    "epoch_rewards = []\n",
    "\n",
    "for i in range(100000):\n",
    "    obs, info = env.reset()\n",
    "    terminated = False\n",
    "    epoch_reward = 0\n",
    "    \n",
    "    while not terminated:\n",
    "        action = env.action_space.sample()\n",
    "        obs, reward, terminated, _, _ = env.step(action)\n",
    "        epoch_reward += reward\n",
    "\n",
    "    epoch_rewards.append(epoch_reward)\n"
   ]
  },
  {
   "cell_type": "code",
   "execution_count": 176,
   "id": "e30fb3e9-89aa-4cee-b970-111d8198580c",
   "metadata": {},
   "outputs": [
    {
     "data": {
      "text/plain": [
       "-0.39415"
      ]
     },
     "execution_count": 176,
     "metadata": {},
     "output_type": "execute_result"
    }
   ],
   "source": [
    "sum(epoch_rewards) / len(epoch_rewards)"
   ]
  },
  {
   "cell_type": "code",
   "execution_count": 177,
   "id": "d8d3b8a0-e6c2-4f93-bc17-666419269ddb",
   "metadata": {},
   "outputs": [
    {
     "data": {
      "text/plain": [
       "(-1.0, 1.0)"
      ]
     },
     "execution_count": 177,
     "metadata": {},
     "output_type": "execute_result"
    },
    {
     "data": {
      "image/png": "[encoded data removed]",
      "text/plain": [
       "<Figure size 640x480 with 1 Axes>"
      ]
     },
     "metadata": {},
     "output_type": "display_data"
    }
   ],
   "source": [
    "epoch_rewards = np.array(epoch_rewards)\n",
    "epoch_rewards_splits = np.split(epoch_rewards, 100)\n",
    "\n",
    "plt.plot(range(100), np.mean(epoch_rewards_splits, 1))\n",
    "ax = plt.gca()\n",
    "ax.set_ylim([-1, 1])"
   ]
  },
  {
   "cell_type": "code",
   "execution_count": null,
   "id": "6a036a6b-e00b-4eaa-ae61-a457b78ff9c2",
   "metadata": {},
   "outputs": [],
   "source": [
    "# Q-Learning"
   ]
  },
  {
   "cell_type": "code",
   "execution_count": 196,
   "id": "f6c12c75-9f0b-49c2-ad2e-53cd2076cadc",
   "metadata": {},
   "outputs": [],
   "source": [
    "q_values = defaultdict(lambda: [0, 0])\n",
    "n = defaultdict(int)\n",
    "\n",
    "epoch_rewards = []\n",
    "\n",
    "# hyperparams\n",
    "gamma = 0.94  # discount rate\n",
    "alpha = lambda n: 20 / (19 + n)\n",
    "epsilon = lambda n: 10 / (9 + n)"
   ]
  },
  {
   "cell_type": "code",
   "execution_count": 193,
   "id": "5435e255-d16f-42fd-9306-98c4ffa83d9f",
   "metadata": {},
   "outputs": [],
   "source": [
    "def get_action(obs):\n",
    "    epsilon_threshold = random.uniform(0, 1)\n",
    "    if epsilon_threshold > epsilon(n[obs]):\n",
    "        action = max([0, 1], key=lambda l: q_values[obs][l])\n",
    "    else:\n",
    "        action = env.action_space.sample()\n",
    "    return action"
   ]
  },
  {
   "cell_type": "code",
   "execution_count": 197,
   "id": "24edb11a-60c4-4e6f-b039-1a71d61c323e",
   "metadata": {},
   "outputs": [],
   "source": [
    "\n",
    "\n",
    "for i in range(1000000):\n",
    "    \n",
    "    obs, info = env.reset()\n",
    "    terminated = False\n",
    "    epoch_reward = 0\n",
    "    \n",
    "    while not terminated:\n",
    "        n[obs] += 1\n",
    "        \n",
    "        action = get_action(obs)\n",
    "        next_obs, reward, terminated, _, _ = env.step(action)\n",
    "        epoch_reward += reward\n",
    "\n",
    "        # Update the Q value\n",
    "        # q_values[obs][action] = (1-alpha(n[obs])) * q_values[obs][action] + alpha(n[obs]) * (epoch_reward + gamma * max(q_values[obs]))\n",
    "\n",
    "        q_values[obs][action] = (1-alpha(n[obs])) * q_values[obs][action] + alpha(n[obs]) * (epoch_reward + gamma * max(q_values[next_obs]))\n",
    "        \n",
    "        obs = next_obs\n",
    "\n",
    "    epoch_rewards.append(epoch_reward)\n",
    "\n",
    "\n"
   ]
  },
  {
   "cell_type": "code",
   "execution_count": 195,
   "id": "4cc14c2c-aa73-4753-b517-2f7f46f565ab",
   "metadata": {},
   "outputs": [
    {
     "data": {
      "text/plain": [
       "(-1.0, 1.0)"
      ]
     },
     "execution_count": 195,
     "metadata": {},
     "output_type": "execute_result"
    },
    {
     "data": {
      "image/png": "[encoded data removed]",
      "text/plain": [
       "<Figure size 640x480 with 1 Axes>"
      ]
     },
     "metadata": {},
     "output_type": "display_data"
    }
   ],
   "source": [
    "epoch_rewards = np.array(epoch_rewards)\n",
    "split_size = 200\n",
    "epoch_rewards_splits = np.split(epoch_rewards, split_size)\n",
    "\n",
    "plt.plot(range(split_size), np.mean(epoch_rewards_splits, 1))\n",
    "ax = plt.gca()\n",
    "ax.set_ylim([-1, 1])"
   ]
  }
 ],
 "metadata": {
  "kernelspec": {
   "display_name": "Python 3 (ipykernel)",
   "language": "python",
   "name": "python3"
  },
  "language_info": {
   "codemirror_mode": {
    "name": "ipython",
    "version": 3
   },
   "file_extension": ".py",
   "mimetype": "text/x-python",
   "name": "python",
   "nbconvert_exporter": "python",
   "pygments_lexer": "ipython3",
   "version": "3.11.4"
  }
 },
 "nbformat": 4,
 "nbformat_minor": 5
}
